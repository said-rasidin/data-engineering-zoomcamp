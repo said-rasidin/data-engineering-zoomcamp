{
 "cells": [
  {
   "cell_type": "code",
   "execution_count": 1,
   "id": "f9cf6927",
   "metadata": {},
   "outputs": [],
   "source": [
    "import pyspark\n",
    "from pyspark.sql import SparkSession\n",
    "import pandas as pd\n",
    "from pyspark.sql import types\n",
    "from pyspark.sql import functions as F"
   ]
  },
  {
   "cell_type": "code",
   "execution_count": 2,
   "id": "c53f652c",
   "metadata": {},
   "outputs": [
    {
     "name": "stderr",
     "output_type": "stream",
     "text": [
      "WARNING: An illegal reflective access operation has occurred\n",
      "WARNING: Illegal reflective access by org.apache.spark.unsafe.Platform (file:/home/rasid/spark/spark-3.0.3-bin-hadoop3.2/jars/spark-unsafe_2.12-3.0.3.jar) to constructor java.nio.DirectByteBuffer(long,int)\n",
      "WARNING: Please consider reporting this to the maintainers of org.apache.spark.unsafe.Platform\n",
      "WARNING: Use --illegal-access=warn to enable warnings of further illegal reflective access operations\n",
      "WARNING: All illegal access operations will be denied in a future release\n",
      "22/02/28 16:55:52 WARN NativeCodeLoader: Unable to load native-hadoop library for your platform... using builtin-java classes where applicable\n",
      "Using Spark's default log4j profile: org/apache/spark/log4j-defaults.properties\n",
      "Setting default log level to \"WARN\".\n",
      "To adjust logging level use sc.setLogLevel(newLevel). For SparkR, use setLogLevel(newLevel).\n",
      "22/02/28 16:55:54 WARN Utils: Service 'SparkUI' could not bind on port 4040. Attempting port 4041.\n"
     ]
    }
   ],
   "source": [
    "spark = SparkSession.builder \\\n",
    "    .master(\"local[*]\") \\\n",
    "    .appName('homework') \\\n",
    "    .getOrCreate()"
   ]
  },
  {
   "cell_type": "markdown",
   "id": "dfce9349",
   "metadata": {},
   "source": [
    "## 1"
   ]
  },
  {
   "cell_type": "code",
   "execution_count": 3,
   "id": "f22f569a",
   "metadata": {},
   "outputs": [
    {
     "data": {
      "text/plain": [
       "'3.0.3'"
      ]
     },
     "execution_count": 3,
     "metadata": {},
     "output_type": "execute_result"
    }
   ],
   "source": [
    "spark.version"
   ]
  },
  {
   "cell_type": "markdown",
   "id": "89cc3c49",
   "metadata": {},
   "source": [
    "## 2"
   ]
  },
  {
   "cell_type": "code",
   "execution_count": 4,
   "id": "14df5228",
   "metadata": {},
   "outputs": [],
   "source": [
    "schema = types.StructType([\n",
    "    types.StructField('hvfhs_license_num', types.StringType(), True),\n",
    "    types.StructField('dispatching_base_num', types.StringType(), True),\n",
    "    types.StructField('pickup_datetime', types.TimestampType(), True),\n",
    "    types.StructField('dropoff_datetime', types.TimestampType(), True),\n",
    "    types.StructField('PULocationID', types.IntegerType(), True),\n",
    "    types.StructField('DOLocationID', types.IntegerType(), True),\n",
    "    types.StructField('SR_Flag', types.StringType(), True)\n",
    "])"
   ]
  },
  {
   "cell_type": "code",
   "execution_count": 5,
   "id": "ed88c7c8",
   "metadata": {},
   "outputs": [],
   "source": [
    "df = spark.read \\\n",
    "    .option(\"header\", \"true\") \\\n",
    "    .schema(schema) \\\n",
    "    .csv('data/raw/fhv/fhvhv_tripdata_2021-02.csv')"
   ]
  },
  {
   "cell_type": "code",
   "execution_count": 7,
   "id": "820de92e",
   "metadata": {},
   "outputs": [],
   "source": [
    "df.repartition(24) \\\n",
    "    .write.parquet('data/pq/fhvhv/2021/02/')"
   ]
  },
  {
   "cell_type": "code",
   "execution_count": 27,
   "id": "ca816ff2",
   "metadata": {},
   "outputs": [
    {
     "name": "stdout",
     "output_type": "stream",
     "text": [
      "total 208M\r\n",
      "-rw-r--r-- 1 rasid rasid    0 Feb 28 16:31 _SUCCESS\r\n",
      "-rw-r--r-- 1 rasid rasid 8.7M Feb 28 16:31 part-00000-da6813d3-775b-4455-8dca-da327c01fb9d-c000.snappy.parquet\r\n",
      "-rw-r--r-- 1 rasid rasid 8.7M Feb 28 16:31 part-00001-da6813d3-775b-4455-8dca-da327c01fb9d-c000.snappy.parquet\r\n",
      "-rw-r--r-- 1 rasid rasid 8.7M Feb 28 16:31 part-00002-da6813d3-775b-4455-8dca-da327c01fb9d-c000.snappy.parquet\r\n",
      "-rw-r--r-- 1 rasid rasid 8.7M Feb 28 16:31 part-00003-da6813d3-775b-4455-8dca-da327c01fb9d-c000.snappy.parquet\r\n",
      "-rw-r--r-- 1 rasid rasid 8.7M Feb 28 16:31 part-00004-da6813d3-775b-4455-8dca-da327c01fb9d-c000.snappy.parquet\r\n",
      "-rw-r--r-- 1 rasid rasid 8.7M Feb 28 16:31 part-00005-da6813d3-775b-4455-8dca-da327c01fb9d-c000.snappy.parquet\r\n",
      "-rw-r--r-- 1 rasid rasid 8.7M Feb 28 16:31 part-00006-da6813d3-775b-4455-8dca-da327c01fb9d-c000.snappy.parquet\r\n",
      "-rw-r--r-- 1 rasid rasid 8.7M Feb 28 16:31 part-00007-da6813d3-775b-4455-8dca-da327c01fb9d-c000.snappy.parquet\r\n",
      "-rw-r--r-- 1 rasid rasid 8.7M Feb 28 16:31 part-00008-da6813d3-775b-4455-8dca-da327c01fb9d-c000.snappy.parquet\r\n",
      "-rw-r--r-- 1 rasid rasid 8.7M Feb 28 16:31 part-00009-da6813d3-775b-4455-8dca-da327c01fb9d-c000.snappy.parquet\r\n",
      "-rw-r--r-- 1 rasid rasid 8.7M Feb 28 16:31 part-00010-da6813d3-775b-4455-8dca-da327c01fb9d-c000.snappy.parquet\r\n",
      "-rw-r--r-- 1 rasid rasid 8.7M Feb 28 16:31 part-00011-da6813d3-775b-4455-8dca-da327c01fb9d-c000.snappy.parquet\r\n",
      "-rw-r--r-- 1 rasid rasid 8.7M Feb 28 16:31 part-00012-da6813d3-775b-4455-8dca-da327c01fb9d-c000.snappy.parquet\r\n",
      "-rw-r--r-- 1 rasid rasid 8.7M Feb 28 16:31 part-00013-da6813d3-775b-4455-8dca-da327c01fb9d-c000.snappy.parquet\r\n",
      "-rw-r--r-- 1 rasid rasid 8.7M Feb 28 16:31 part-00014-da6813d3-775b-4455-8dca-da327c01fb9d-c000.snappy.parquet\r\n",
      "-rw-r--r-- 1 rasid rasid 8.7M Feb 28 16:31 part-00015-da6813d3-775b-4455-8dca-da327c01fb9d-c000.snappy.parquet\r\n",
      "-rw-r--r-- 1 rasid rasid 8.7M Feb 28 16:31 part-00016-da6813d3-775b-4455-8dca-da327c01fb9d-c000.snappy.parquet\r\n",
      "-rw-r--r-- 1 rasid rasid 8.7M Feb 28 16:31 part-00017-da6813d3-775b-4455-8dca-da327c01fb9d-c000.snappy.parquet\r\n",
      "-rw-r--r-- 1 rasid rasid 8.7M Feb 28 16:31 part-00018-da6813d3-775b-4455-8dca-da327c01fb9d-c000.snappy.parquet\r\n",
      "-rw-r--r-- 1 rasid rasid 8.7M Feb 28 16:31 part-00019-da6813d3-775b-4455-8dca-da327c01fb9d-c000.snappy.parquet\r\n",
      "-rw-r--r-- 1 rasid rasid 8.7M Feb 28 16:31 part-00020-da6813d3-775b-4455-8dca-da327c01fb9d-c000.snappy.parquet\r\n",
      "-rw-r--r-- 1 rasid rasid 8.7M Feb 28 16:31 part-00021-da6813d3-775b-4455-8dca-da327c01fb9d-c000.snappy.parquet\r\n",
      "-rw-r--r-- 1 rasid rasid 8.7M Feb 28 16:31 part-00022-da6813d3-775b-4455-8dca-da327c01fb9d-c000.snappy.parquet\r\n",
      "-rw-r--r-- 1 rasid rasid 8.7M Feb 28 16:31 part-00023-da6813d3-775b-4455-8dca-da327c01fb9d-c000.snappy.parquet\r\n"
     ]
    }
   ],
   "source": [
    "!ls -lh data/pq/fhvhv/2021/02/"
   ]
  },
  {
   "cell_type": "markdown",
   "id": "58a611ec",
   "metadata": {},
   "source": [
    "## 3"
   ]
  },
  {
   "cell_type": "code",
   "execution_count": 8,
   "id": "eb7084de",
   "metadata": {},
   "outputs": [
    {
     "name": "stderr",
     "output_type": "stream",
     "text": [
      "\r",
      "[Stage 0:>                                                          (0 + 1) / 1]\r",
      "\r",
      "                                                                                \r"
     ]
    },
    {
     "name": "stdout",
     "output_type": "stream",
     "text": [
      "+-----------------+--------------------+-------------------+-------------------+------------+------------+-------+\n",
      "|hvfhs_license_num|dispatching_base_num|    pickup_datetime|   dropoff_datetime|PULocationID|DOLocationID|SR_Flag|\n",
      "+-----------------+--------------------+-------------------+-------------------+------------+------------+-------+\n",
      "|           HV0003|              B02887|2021-02-06 01:18:35|2021-02-06 01:40:34|         163|         235|   null|\n",
      "|           HV0005|              B02510|2021-02-05 07:13:06|2021-02-05 07:31:56|         225|         181|   null|\n",
      "|           HV0003|              B02869|2021-02-04 16:56:52|2021-02-04 17:21:36|         260|          95|   null|\n",
      "|           HV0003|              B02871|2021-02-03 18:34:17|2021-02-03 18:57:12|         235|          60|   null|\n",
      "+-----------------+--------------------+-------------------+-------------------+------------+------------+-------+\n",
      "only showing top 4 rows\n",
      "\n"
     ]
    }
   ],
   "source": [
    "df_pq = spark.read.parquet('data/pq/fhvhv/2021/02/')\n",
    "\n",
    "df_pq.show(4)"
   ]
  },
  {
   "cell_type": "code",
   "execution_count": 9,
   "id": "1b2cdf68",
   "metadata": {},
   "outputs": [],
   "source": [
    "df_pq_date = df_pq.withColumn('pickup_date', F.to_date(df_pq.pickup_datetime)) \\\n",
    "    .withColumn('dropoff_date',  F.to_date(df_pq.dropoff_datetime))"
   ]
  },
  {
   "cell_type": "code",
   "execution_count": 10,
   "id": "6ff20288",
   "metadata": {},
   "outputs": [],
   "source": [
    "df_pq_date.registerTempTable('fhv_data')"
   ]
  },
  {
   "cell_type": "code",
   "execution_count": 14,
   "id": "01ba02dd",
   "metadata": {},
   "outputs": [
    {
     "name": "stderr",
     "output_type": "stream",
     "text": [
      "\r",
      "[Stage 8:>                                                          (0 + 4) / 4]\r"
     ]
    },
    {
     "name": "stdout",
     "output_type": "stream",
     "text": [
      "+--------+\n",
      "|count(1)|\n",
      "+--------+\n",
      "|  367170|\n",
      "+--------+\n",
      "\n"
     ]
    },
    {
     "name": "stderr",
     "output_type": "stream",
     "text": [
      "\r",
      "                                                                                \r"
     ]
    }
   ],
   "source": [
    "spark.sql(\"\"\"\n",
    "SELECT\n",
    "    count(*)\n",
    "FROM\n",
    "    fhv_data\n",
    "WHERE\n",
    "    pickup_date = '2021-02-15'\n",
    "\"\"\").show()"
   ]
  },
  {
   "cell_type": "markdown",
   "id": "32261874",
   "metadata": {},
   "source": [
    "## 4"
   ]
  },
  {
   "cell_type": "code",
   "execution_count": 17,
   "id": "fe8d4232",
   "metadata": {},
   "outputs": [
    {
     "name": "stdout",
     "output_type": "stream",
     "text": [
      "root\n",
      " |-- hvfhs_license_num: string (nullable = true)\n",
      " |-- dispatching_base_num: string (nullable = true)\n",
      " |-- pickup_datetime: timestamp (nullable = true)\n",
      " |-- dropoff_datetime: timestamp (nullable = true)\n",
      " |-- PULocationID: integer (nullable = true)\n",
      " |-- DOLocationID: integer (nullable = true)\n",
      " |-- SR_Flag: string (nullable = true)\n",
      " |-- pickup_date: date (nullable = true)\n",
      " |-- dropoff_date: date (nullable = true)\n",
      "\n"
     ]
    }
   ],
   "source": [
    "df_pq_date.printSchema()"
   ]
  },
  {
   "cell_type": "code",
   "execution_count": 43,
   "id": "3dce2132",
   "metadata": {},
   "outputs": [
    {
     "name": "stdout",
     "output_type": "stream",
     "text": [
      "+-----------+-----------------+\n",
      "|pickup_date|DurationInSeconds|\n",
      "+-----------+-----------------+\n",
      "| 2021-02-06|             1319|\n",
      "| 2021-02-05|             1130|\n",
      "| 2021-02-04|             1484|\n",
      "| 2021-02-03|             1375|\n",
      "+-----------+-----------------+\n",
      "only showing top 4 rows\n",
      "\n"
     ]
    }
   ],
   "source": [
    "df2_time = df_pq_date.withColumn('DurationInSeconds',df_pq_date.dropoff_datetime.cast(\"long\") - df_pq_date.pickup_datetime.cast(\"long\"))\n",
    "df2_time.select('pickup_date', 'DurationInSeconds').show(4)"
   ]
  },
  {
   "cell_type": "code",
   "execution_count": 46,
   "id": "b57b3470",
   "metadata": {},
   "outputs": [
    {
     "name": "stderr",
     "output_type": "stream",
     "text": [
      "\r",
      "[Stage 29:>                                                         (0 + 4) / 4]\r"
     ]
    },
    {
     "name": "stdout",
     "output_type": "stream",
     "text": [
      "+-----------+-----------------+\n",
      "|pickup_date|DurationInSeconds|\n",
      "+-----------+-----------------+\n",
      "| 2021-02-11|            75540|\n",
      "+-----------+-----------------+\n",
      "only showing top 1 row\n",
      "\n"
     ]
    },
    {
     "name": "stderr",
     "output_type": "stream",
     "text": [
      "\r",
      "                                                                                \r"
     ]
    }
   ],
   "source": [
    "df2_time.registerTempTable('fhv_data_duration')\n",
    "spark.sql(\"\"\"\n",
    "SELECT\n",
    "    pickup_date,\n",
    "    DurationInSeconds\n",
    "FROM\n",
    "    fhv_data_duration\n",
    "ORDER BY\n",
    "    DurationInSeconds DESC\n",
    "\"\"\").show(1)"
   ]
  },
  {
   "cell_type": "markdown",
   "id": "ab47a2dc",
   "metadata": {},
   "source": [
    "## 5"
   ]
  },
  {
   "cell_type": "code",
   "execution_count": 49,
   "id": "23b02bdd",
   "metadata": {},
   "outputs": [
    {
     "name": "stderr",
     "output_type": "stream",
     "text": [
      "\r",
      "[Stage 48:>                                                         (0 + 4) / 4]\r"
     ]
    },
    {
     "name": "stdout",
     "output_type": "stream",
     "text": [
      "+--------------------+---------+\n",
      "|dispatching_base_num|frequency|\n",
      "+--------------------+---------+\n",
      "|              B02510|  3233664|\n",
      "|              B02764|   965568|\n",
      "|              B02872|   882689|\n",
      "|              B02875|   685390|\n",
      "|              B02765|   559768|\n",
      "|              B02869|   429720|\n",
      "|              B02887|   322331|\n",
      "|              B02871|   312364|\n",
      "|              B02864|   311603|\n",
      "|              B02866|   311089|\n",
      "|              B02878|   305185|\n",
      "|              B02682|   303255|\n",
      "|              B02617|   274510|\n",
      "|              B02883|   251617|\n",
      "|              B02884|   244963|\n",
      "|              B02882|   232173|\n",
      "|              B02876|   215693|\n",
      "|              B02879|   210137|\n",
      "|              B02867|   200530|\n",
      "|              B02877|   198938|\n",
      "+--------------------+---------+\n",
      "only showing top 20 rows\n",
      "\n"
     ]
    },
    {
     "name": "stderr",
     "output_type": "stream",
     "text": [
      "\r",
      "[Stage 49:==============================================>       (174 + 4) / 200]\r",
      "\r",
      "                                                                                \r"
     ]
    }
   ],
   "source": [
    "spark.sql(\"\"\"\n",
    "SELECT\n",
    "    dispatching_base_num,\n",
    "    count(dispatching_base_num) as frequency\n",
    "FROM\n",
    "    fhv_data_duration\n",
    "GROUP BY \n",
    "    dispatching_base_num\n",
    "ORDER BY \n",
    "    2 DESC\n",
    "\"\"\").show()"
   ]
  },
  {
   "cell_type": "markdown",
   "id": "ed64d930",
   "metadata": {},
   "source": [
    "## 6"
   ]
  },
  {
   "cell_type": "code",
   "execution_count": 58,
   "id": "1320bbb8",
   "metadata": {},
   "outputs": [
    {
     "data": {
      "text/plain": [
       "LocationID       int64\n",
       "Borough         object\n",
       "Zone            object\n",
       "service_zone    object\n",
       "dtype: object"
      ]
     },
     "execution_count": 58,
     "metadata": {},
     "output_type": "execute_result"
    }
   ],
   "source": [
    "df_zone_pd = pd.read_csv('taxi+_zone_lookup.csv')\n",
    "df_zone_pd.dtypes"
   ]
  },
  {
   "cell_type": "code",
   "execution_count": 60,
   "id": "4f9974dc",
   "metadata": {},
   "outputs": [],
   "source": [
    "schema = types.StructType([\n",
    "    types.StructField('LocationID', types.IntegerType(), True),\n",
    "    types.StructField('Borough', types.StringType(), True),\n",
    "    types.StructField('Zone', types.StringType(), True),\n",
    "    types.StructField('service_zone', types.TimestampType(), True)\n",
    "])"
   ]
  },
  {
   "cell_type": "code",
   "execution_count": 65,
   "id": "4e28b19a",
   "metadata": {},
   "outputs": [
    {
     "name": "stdout",
     "output_type": "stream",
     "text": [
      "+----------+-------------+--------------------+------------+\n",
      "|LocationID|      Borough|                Zone|service_zone|\n",
      "+----------+-------------+--------------------+------------+\n",
      "|         1|          EWR|      Newark Airport|        null|\n",
      "|         2|       Queens|         Jamaica Bay|        null|\n",
      "|         3|        Bronx|Allerton/Pelham G...|        null|\n",
      "|         4|    Manhattan|       Alphabet City|        null|\n",
      "|         5|Staten Island|       Arden Heights|        null|\n",
      "+----------+-------------+--------------------+------------+\n",
      "only showing top 5 rows\n",
      "\n"
     ]
    }
   ],
   "source": [
    "df_zone = spark.read \\\n",
    "    .option(\"header\", \"true\") \\\n",
    "    .schema(schema) \\\n",
    "    .csv('taxi+_zone_lookup.csv')\n",
    "df_zone.show(5)"
   ]
  },
  {
   "cell_type": "code",
   "execution_count": 63,
   "id": "75f560d9",
   "metadata": {},
   "outputs": [],
   "source": [
    "df_zone.registerTempTable('zone')"
   ]
  },
  {
   "cell_type": "code",
   "execution_count": 78,
   "id": "5fe1b2d1",
   "metadata": {},
   "outputs": [
    {
     "name": "stderr",
     "output_type": "stream",
     "text": [
      "\r",
      "[Stage 89:>                                                         (0 + 4) / 4]\r"
     ]
    },
    {
     "name": "stdout",
     "output_type": "stream",
     "text": [
      "+--------------------+---------+\n",
      "|            loc_pair|frequency|\n",
      "+--------------------+---------+\n",
      "|East New York/Eas...|    45041|\n",
      "|Borough Park/Boro...|    37329|\n",
      "|   Canarsie/Canarsie|    28026|\n",
      "|Crown Heights Nor...|    25976|\n",
      "| Bay Ridge/Bay Ridge|    17934|\n",
      "|     Astoria/Astoria|    14688|\n",
      "|Jackson Heights/J...|    14688|\n",
      "|Central Harlem No...|    14481|\n",
      "|Bushwick South/Bu...|    14424|\n",
      "|Flatbush/Ditmas P...|    13976|\n",
      "+--------------------+---------+\n",
      "\n"
     ]
    },
    {
     "name": "stderr",
     "output_type": "stream",
     "text": [
      "\r",
      "[Stage 90:===================================================>  (190 + 4) / 200]\r",
      "\r",
      "                                                                                \r"
     ]
    }
   ],
   "source": [
    "spark.sql(\"\"\"\n",
    "SELECT \n",
    "    loc_pair,\n",
    "    COUNT(loc_pair) AS frequency\n",
    "FROM (\n",
    "    SELECT\n",
    "        PULocationID,\n",
    "        pickup_zone.Zone PULocation,\n",
    "        DOLocationID,\n",
    "        dropoff_zone.Zone DOLocation,\n",
    "        CONCAT(pickup_zone.Zone, '/', dropoff_zone.Zone) loc_pair\n",
    "    FROM\n",
    "        fhv_data_duration\n",
    "    LEFT JOIN zone pickup_zone\n",
    "        ON fhv_data_duration.PULocationID = pickup_zone.LocationID\n",
    "    LEFT JOIN zone dropoff_zone\n",
    "        ON fhv_data_duration.DOLocationID = dropoff_zone.LocationID\n",
    "    ) zoness\n",
    "GROUP BY\n",
    "    1\n",
    "ORDER BY \n",
    "    2 DESC\n",
    "LIMIT 10\n",
    "\"\"\").show()"
   ]
  },
  {
   "cell_type": "code",
   "execution_count": null,
   "id": "7dc583a9",
   "metadata": {},
   "outputs": [],
   "source": []
  }
 ],
 "metadata": {
  "kernelspec": {
   "display_name": "Python 3 (ipykernel)",
   "language": "python",
   "name": "python3"
  },
  "language_info": {
   "codemirror_mode": {
    "name": "ipython",
    "version": 3
   },
   "file_extension": ".py",
   "mimetype": "text/x-python",
   "name": "python",
   "nbconvert_exporter": "python",
   "pygments_lexer": "ipython3",
   "version": "3.9.7"
  }
 },
 "nbformat": 4,
 "nbformat_minor": 5
}
